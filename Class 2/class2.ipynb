{
 "cells": [
  {
   "cell_type": "markdown",
   "metadata": {},
   "source": [
    "# Class 2 : String in Python\n",
    "In this class, we will be deep dive into the concepts of String and explore its Functions.\n"
   ]
  },
  {
   "cell_type": "code",
   "execution_count": 2,
   "metadata": {},
   "outputs": [
    {
     "name": "stdout",
     "output_type": "stream",
     "text": [
      "This is Class 2 in Python\n"
     ]
    }
   ],
   "source": [
    "message : str = \"This is Class 2 in Python\"\n",
    "print(message)"
   ]
  },
  {
   "cell_type": "markdown",
   "metadata": {},
   "source": [
    "# String\n",
    "\n",
    "The Sequence or collection or set of character enclosed with quotation or double quotation or triple single or double quotation mark\n",
    "\n",
    "```python\n",
    "\n",
    "'this is String'\n",
    "\"this is also an string\"\n",
    "\"\"\"this is \n",
    "multi line \n",
    "String\"\"\"\n",
    "\n",
    "```\n"
   ]
  },
  {
   "cell_type": "code",
   "execution_count": 4,
   "metadata": {},
   "outputs": [
    {
     "name": "stdout",
     "output_type": "stream",
     "text": [
      "Muhammad Bilal\n",
      "<class 'str'>\n"
     ]
    }
   ],
   "source": [
    "# To find type of any data we have type function\n",
    "\n",
    "name : str = \"Muhammad Bilal\"\n",
    "print(name) # Muhammad Bilal\n",
    "print(type(name)) # <class 'str'>"
   ]
  },
  {
   "cell_type": "markdown",
   "metadata": {},
   "source": [
    "## Single Quotation V/S Double Quotation in String\n",
    "Where to use single or double quotation \n",
    "\n",
    "1. If we want to use sigle quote in our string, we wrap string in double quotes.\n",
    "2. If we want to use double quotes in our String, we wrap string with single quotes.\n",
    "\n",
    "\n"
   ]
  },
  {
   "cell_type": "code",
   "execution_count": 8,
   "metadata": {},
   "outputs": [
    {
     "name": "stdout",
     "output_type": "stream",
     "text": [
      "PIAIC Student Card \n",
      "Father's name\n",
      "some one says to me \n",
      "\"Practice Practice and Practice makes man Perfect\"\n"
     ]
    }
   ],
   "source": [
    "# Where to use single or double quotation \n",
    "\n",
    "# Single Quotation Example\n",
    "message : str = \"PIAIC Student Card \\nFather's name\"\n",
    "print(message)\n",
    "\n",
    "# Double Quotation Example\n",
    "message2 : str = 'some one says to me \\n\"Practice Practice and Practice makes man Perfect\"' \n",
    "print(message2)\n"
   ]
  },
  {
   "cell_type": "code",
   "execution_count": 10,
   "metadata": {},
   "outputs": [
    {
     "name": "stdout",
     "output_type": "stream",
     "text": [
      "PIAIC Student Card \n",
      "Father's name\n"
     ]
    }
   ],
   "source": [
    "# convert any special character into simple character, place \\ before character\n",
    "\n",
    "message : str = \"PIAIC Student Card \\nFather's name\"\n",
    "print(message)"
   ]
  },
  {
   "cell_type": "markdown",
   "metadata": {},
   "source": [
    "## String Concatenation \n",
    "\n",
    "String Concatenation is a method that is used to merge two or more than two string with the single string.\n"
   ]
  },
  {
   "cell_type": "code",
   "execution_count": 11,
   "metadata": {},
   "outputs": [
    {
     "data": {
      "text/plain": [
       "'abc'"
      ]
     },
     "execution_count": 11,
     "metadata": {},
     "output_type": "execute_result"
    }
   ],
   "source": [
    "\"a\" + \"b\"+ \"c\"\n"
   ]
  },
  {
   "cell_type": "code",
   "execution_count": 13,
   "metadata": {},
   "outputs": [
    {
     "ename": "TypeError",
     "evalue": "can only concatenate str (not \"int\") to str",
     "output_type": "error",
     "traceback": [
      "\u001b[1;31m---------------------------------------------------------------------------\u001b[0m",
      "\u001b[1;31mTypeError\u001b[0m                                 Traceback (most recent call last)",
      "Cell \u001b[1;32mIn[13], line 3\u001b[0m\n\u001b[0;32m      1\u001b[0m \u001b[38;5;66;03m# if we try to concatenate string with number,\u001b[39;00m\n\u001b[1;32m----> 3\u001b[0m \u001b[38;5;124;43m\"\u001b[39;49m\u001b[38;5;124;43ma\u001b[39;49m\u001b[38;5;124;43m\"\u001b[39;49m\u001b[38;5;241;43m+\u001b[39;49m\u001b[38;5;241;43m1\u001b[39;49m\n",
      "\u001b[1;31mTypeError\u001b[0m: can only concatenate str (not \"int\") to str"
     ]
    }
   ],
   "source": [
    "# if we try to concatenate string with number,\n",
    "\n",
    "\"a\"+1 # TypeError: can only concatenate str (not \"int\") to str\n",
    "\n"
   ]
  },
  {
   "cell_type": "markdown",
   "metadata": {},
   "source": [
    "## Concatenate a Large String"
   ]
  },
  {
   "cell_type": "code",
   "execution_count": 15,
   "metadata": {},
   "outputs": [
    {
     "ename": "TypeError",
     "evalue": "can only concatenate str (not \"int\") to str",
     "output_type": "error",
     "traceback": [
      "\u001b[1;31m---------------------------------------------------------------------------\u001b[0m",
      "\u001b[1;31mTypeError\u001b[0m                                 Traceback (most recent call last)",
      "Cell \u001b[1;32mIn[15], line 5\u001b[0m\n\u001b[0;32m      3\u001b[0m age: \u001b[38;5;28mint\u001b[39m \u001b[38;5;241m=\u001b[39m \u001b[38;5;241m21\u001b[39m\n\u001b[0;32m      4\u001b[0m education : \u001b[38;5;28mstr\u001b[39m \u001b[38;5;241m=\u001b[39m \u001b[38;5;124m\"\u001b[39m\u001b[38;5;124mGraduate\u001b[39m\u001b[38;5;124m\"\u001b[39m\n\u001b[1;32m----> 5\u001b[0m message : \u001b[38;5;28mstr\u001b[39m \u001b[38;5;241m=\u001b[39m \u001b[38;5;124;43m\"\u001b[39;49m\u001b[38;5;124;43mPIAIC Studenet Card \u001b[39;49m\u001b[38;5;130;43;01m\\n\u001b[39;49;00m\u001b[38;5;124;43mName: \u001b[39;49m\u001b[38;5;124;43m\"\u001b[39;49m\u001b[38;5;241;43m+\u001b[39;49m\u001b[43m \u001b[49m\u001b[43mname\u001b[49m\u001b[43m \u001b[49m\u001b[38;5;241;43m+\u001b[39;49m\u001b[43m \u001b[49m\u001b[38;5;124;43m\"\u001b[39;49m\u001b[38;5;130;43;01m\\n\u001b[39;49;00m\u001b[38;5;124;43mFater\u001b[39;49m\u001b[38;5;124;43m'\u001b[39;49m\u001b[38;5;124;43ms Name: \u001b[39;49m\u001b[38;5;124;43m\"\u001b[39;49m\u001b[38;5;241;43m+\u001b[39;49m\u001b[43m \u001b[49m\u001b[43mf_name\u001b[49m\u001b[43m \u001b[49m\u001b[38;5;241;43m+\u001b[39;49m\u001b[38;5;124;43m\"\u001b[39;49m\u001b[38;5;130;43;01m\\n\u001b[39;49;00m\u001b[38;5;124;43mage: \u001b[39;49m\u001b[38;5;124;43m\"\u001b[39;49m\u001b[38;5;241;43m+\u001b[39;49m\u001b[43m \u001b[49m\u001b[43mage\u001b[49m \u001b[38;5;241m+\u001b[39m \u001b[38;5;124m\"\u001b[39m\u001b[38;5;130;01m\\n\u001b[39;00m\u001b[38;5;124meducation: \u001b[39m\u001b[38;5;124m\"\u001b[39m \u001b[38;5;241m+\u001b[39m education \n",
      "\u001b[1;31mTypeError\u001b[0m: can only concatenate str (not \"int\") to str"
     ]
    }
   ],
   "source": [
    "name : str = \"Muhammad Bilal\"\n",
    "f_name : str = \"Muhammad Naeem\"\n",
    "age: int = 21\n",
    "education : str = \"Graduate\"\n",
    "message : str = \"PIAIC Studenet Card \\nName: \"+ name + \"\\nFater's Name: \"+ f_name +\"\\nage: \"+ age + \"\\neducation: \" + education "
   ]
  },
  {
   "cell_type": "code",
   "execution_count": 17,
   "metadata": {},
   "outputs": [
    {
     "data": {
      "text/plain": [
       "'a4'"
      ]
     },
     "execution_count": 17,
     "metadata": {},
     "output_type": "execute_result"
    }
   ],
   "source": [
    "# convert any data type to string we have a method of str()\n",
    "\"a\"+ str(4)\n"
   ]
  },
  {
   "cell_type": "code",
   "execution_count": 19,
   "metadata": {},
   "outputs": [
    {
     "name": "stdout",
     "output_type": "stream",
     "text": [
      "PIAIC Studenet Card \n",
      "Name: Muhammad Bilal\n",
      "Fater's Name: Muhammad Naeem\n",
      "age: 21\n",
      "education: Graduate\n"
     ]
    }
   ],
   "source": [
    "name : str = \"Muhammad Bilal\"\n",
    "f_name : str = \"Muhammad Naeem\"\n",
    "age: int = 21\n",
    "education : str = \"Graduate\"\n",
    "message : str = \"PIAIC Studenet Card \\nName: \"+ name + \"\\nFater's Name: \"+ f_name +\"\\nage: \"+ str(age) + \"\\neducation: \" + education \n",
    "print(message)"
   ]
  },
  {
   "cell_type": "code",
   "execution_count": 20,
   "metadata": {},
   "outputs": [
    {
     "name": "stdout",
     "output_type": "stream",
     "text": [
      "10\n"
     ]
    }
   ],
   "source": [
    "# we can also execute some equation in Print\n",
    "print(2 + 3 + 5 )"
   ]
  },
  {
   "cell_type": "markdown",
   "metadata": {},
   "source": [
    "## "
   ]
  },
  {
   "cell_type": "markdown",
   "metadata": {},
   "source": [
    "## \"/\" Line Continue\n"
   ]
  },
  {
   "cell_type": "code",
   "execution_count": 21,
   "metadata": {},
   "outputs": [
    {
     "name": "stdout",
     "output_type": "stream",
     "text": [
      "10\n"
     ]
    }
   ],
   "source": [
    "print(2+\\\n",
    "      3+\\\n",
    "        5)"
   ]
  },
  {
   "cell_type": "code",
   "execution_count": 22,
   "metadata": {},
   "outputs": [
    {
     "name": "stdout",
     "output_type": "stream",
     "text": [
      "PIAIC Studenet Card \n",
      "Name: Muhammad Bilal\n",
      "Fater's Name: Muhammad Naeem\n",
      "age: 21\n",
      "education: Graduate\n"
     ]
    }
   ],
   "source": [
    "name : str = \"Muhammad Bilal\"\n",
    "f_name : str = \"Muhammad Naeem\"\n",
    "age: int = 21\n",
    "education : str = \"Graduate\"\n",
    "message : str = \"PIAIC Studenet Card \\nName: \" + name +\\\n",
    "      \"\\nFater's Name: \"+ f_name +\\\n",
    "        \"\\nage: \"+ str(age) +\\\n",
    "        \"\\neducation: \" + education \n",
    "print(message)"
   ]
  },
  {
   "cell_type": "markdown",
   "metadata": {},
   "source": [
    "## Defining Multiline String \"\"\" \"\"\" , ''' '''\n",
    "\n",
    "Multiline String is used to print multiple line in String \n",
    "or we can say that it used for print formatting.\n"
   ]
  },
  {
   "cell_type": "code",
   "execution_count": 24,
   "metadata": {},
   "outputs": [
    {
     "name": "stdout",
     "output_type": "stream",
     "text": [
      "PIAIC Studenet Card \n",
      "Name: ... \n",
      "Fater's Name: ...\n",
      "age: ...\n",
      "education: ...\n"
     ]
    }
   ],
   "source": [
    "name : str = \"Muhammad Bilal\"\n",
    "f_name : str = \"Muhammad Naeem\"\n",
    "age: int = 21\n",
    "education : str = \"Graduate\"\n",
    "\n",
    "message : str = \"\"\"PIAIC Studenet Card \n",
    "Name: ... \n",
    "Fater's Name: ...\n",
    "age: ...\n",
    "education: ...\"\"\" \n",
    "print(message)"
   ]
  },
  {
   "cell_type": "markdown",
   "metadata": {},
   "source": [
    "## F-String Python \n",
    "\n",
    "F-String is introduce in python 3.9.\n",
    "\n",
    "it is used to format string and concatenation with string."
   ]
  },
  {
   "cell_type": "code",
   "execution_count": 1,
   "metadata": {},
   "outputs": [
    {
     "name": "stdout",
     "output_type": "stream",
     "text": [
      "PIAIC Studenet Card \n",
      "Name: Muhammad Bilal\n",
      "Fater's Name: Muhammad Naeem\n",
      "age: 21\n",
      "education: Graduate\n",
      "\n"
     ]
    }
   ],
   "source": [
    "name : str = \"Muhammad Bilal\"\n",
    "f_name : str = \"Muhammad Naeem\"\n",
    "age: int = 21\n",
    "education : str = \"Graduate\"\n",
    "\n",
    "message : str = f\"\"\"PIAIC Studenet Card \n",
    "Name: {name}\n",
    "Fater's Name: {f_name}\n",
    "age: {age}\n",
    "education: {education}\n",
    "\"\"\" \n",
    "print(message)"
   ]
  },
  {
   "cell_type": "markdown",
   "metadata": {},
   "source": [
    "### F-string and Jinja style\n",
    "\n",
    "both are used to format the string in python."
   ]
  },
  {
   "cell_type": "code",
   "execution_count": 3,
   "metadata": {},
   "outputs": [
    {
     "data": {
      "text/plain": [
       "'\\nstudent name Muhammad Bilal\\n'"
      ]
     },
     "execution_count": 3,
     "metadata": {},
     "output_type": "execute_result"
    }
   ],
   "source": [
    "# FString Method\n",
    "\n",
    "f\"\"\"\n",
    "student name {name}\n",
    "\"\"\""
   ]
  },
  {
   "cell_type": "code",
   "execution_count": 8,
   "metadata": {},
   "outputs": [
    {
     "name": "stdout",
     "output_type": "stream",
     "text": [
      "\n",
      "student name {{name}}\n",
      "\n"
     ]
    }
   ],
   "source": [
    "# jinja Style\n",
    "name:str = \"Muhammad Bilal\"\n",
    "\n",
    "\n",
    "message:str = \"\"\"\n",
    "student name {{name}}\n",
    "\"\"\"\n",
    "print(message)"
   ]
  },
  {
   "cell_type": "code",
   "execution_count": 11,
   "metadata": {},
   "outputs": [
    {
     "name": "stdout",
     "output_type": "stream",
     "text": [
      "\n",
      "PIAIC Student Card\n",
      "Student Name : Muhammad Qasim\n",
      "Father's Name: Muhammad Aslam\n",
      "Age: 30\n",
      "Education : Master in Data Science\n",
      "\n",
      "\n"
     ]
    }
   ],
   "source": [
    "name : str = 'Muhammad Qasim'\n",
    "fname : str = \"Muhammad Aslam\"\n",
    "education : str = \"Master in Data Science\"\n",
    "age : int = 30\n",
    "\n",
    "\n",
    "card : str = f\"\"\"\n",
    "PIAIC Student Card\n",
    "Student Name : %s\n",
    "Father's Name: %s\n",
    "Age: %d\n",
    "Education : %s\n",
    "\n",
    "\"\"\" % (name, fname, age, education)\n",
    "\n",
    "print(card)"
   ]
  },
  {
   "cell_type": "code",
   "execution_count": 12,
   "metadata": {},
   "outputs": [
    {
     "data": {
      "text/plain": [
       "['capitalize',\n",
       " 'casefold',\n",
       " 'center',\n",
       " 'count',\n",
       " 'encode',\n",
       " 'endswith',\n",
       " 'expandtabs',\n",
       " 'find',\n",
       " 'format',\n",
       " 'format_map',\n",
       " 'index',\n",
       " 'isalnum',\n",
       " 'isalpha',\n",
       " 'isascii',\n",
       " 'isdecimal',\n",
       " 'isdigit',\n",
       " 'isidentifier',\n",
       " 'islower',\n",
       " 'isnumeric',\n",
       " 'isprintable',\n",
       " 'isspace',\n",
       " 'istitle',\n",
       " 'isupper',\n",
       " 'join',\n",
       " 'ljust',\n",
       " 'lower',\n",
       " 'lstrip',\n",
       " 'maketrans',\n",
       " 'partition',\n",
       " 'removeprefix',\n",
       " 'removesuffix',\n",
       " 'replace',\n",
       " 'rfind',\n",
       " 'rindex',\n",
       " 'rjust',\n",
       " 'rpartition',\n",
       " 'rsplit',\n",
       " 'rstrip',\n",
       " 'split',\n",
       " 'splitlines',\n",
       " 'startswith',\n",
       " 'strip',\n",
       " 'swapcase',\n",
       " 'title',\n",
       " 'translate',\n",
       " 'upper',\n",
       " 'zfill']"
      ]
     },
     "execution_count": 12,
     "metadata": {},
     "output_type": "execute_result"
    }
   ],
   "source": [
    "[i for i in dir(str)  if \"__\" not in i ]"
   ]
  },
  {
   "cell_type": "markdown",
   "metadata": {},
   "source": [
    "`.format()` method to format String"
   ]
  },
  {
   "cell_type": "code",
   "execution_count": 13,
   "metadata": {},
   "outputs": [
    {
     "data": {
      "text/plain": [
       "'pakistan value a = 7 and value b = 8'"
      ]
     },
     "execution_count": 13,
     "metadata": {},
     "output_type": "execute_result"
    }
   ],
   "source": [
    "a = 7\n",
    "b = 8\n",
    "# {} place holder\n",
    "#                   0                1          0 1\n",
    "\"pakistan value a = {} and value b = {}\".format(a,b)"
   ]
  },
  {
   "cell_type": "code",
   "execution_count": 14,
   "metadata": {},
   "outputs": [
    {
     "name": "stdout",
     "output_type": "stream",
     "text": [
      "Muhammad qasim\n",
      "muhammad qasim\n"
     ]
    }
   ],
   "source": [
    "name : str = \"MUhAMMad QaSiM\"\n",
    "\n",
    "print(name.capitalize())\n",
    "print(name.lower())"
   ]
  },
  {
   "cell_type": "code",
   "execution_count": 15,
   "metadata": {},
   "outputs": [
    {
     "name": "stdout",
     "output_type": "stream",
     "text": [
      "\n",
      "PIAIC Student Card\n",
      "Student Name : Muhammad Qasim\n",
      "Father's Name: Muhammad Aslam\n",
      "Age: 30\n",
      "Education : Master in Data Science\n",
      "\n",
      "Total 22\n",
      "\n"
     ]
    }
   ],
   "source": [
    "name : str = 'Muhammad Qasim'\n",
    "fname : str = \"Muhammad Aslam\"\n",
    "education : str = \"Master in Data Science\"\n",
    "age : int = 30\n",
    "\n",
    "\n",
    "card : str = f\"\"\"\n",
    "PIAIC Student Card\n",
    "Student Name : {name}\n",
    "Father's Name: {fname}\n",
    "Age: {age}\n",
    "Education : {education}\n",
    "\n",
    "Total {2 + 8 + 9 + 3}\n",
    "\"\"\"\n",
    "\n",
    "print(card)"
   ]
  },
  {
   "cell_type": "code",
   "execution_count": 17,
   "metadata": {},
   "outputs": [
    {
     "name": "stdout",
     "output_type": "stream",
     "text": [
      "\n",
      "PIAIC Student Card\n",
      "Student Name : Muhammad Aslam\n",
      "Father's Name: Muhammad Qasim\n",
      "Age: Master in Data Science\n",
      "Education : 30\n",
      "\n"
     ]
    }
   ],
   "source": [
    "# .format method\n",
    "\n",
    "name : str = 'Muhammad Qasim'\n",
    "fname : str = \"Muhammad Aslam\"\n",
    "education : str = \"Master in Data Science\"\n",
    "age : int = 30\n",
    "\n",
    "\n",
    "card : str = \"\"\"\n",
    "PIAIC Student Card\n",
    "Student Name : {}\n",
    "Father's Name: {}\n",
    "Age: {}\n",
    "Education : {}\n",
    "\"\"\".format(fname, name, education, age)\n",
    "\n",
    "print(card)"
   ]
  },
  {
   "cell_type": "code",
   "execution_count": 18,
   "metadata": {},
   "outputs": [
    {
     "name": "stdout",
     "output_type": "stream",
     "text": [
      "\n",
      "PIAIC Student Card\n",
      "Student Name : Muhammad Qasim\n",
      "Father's Name: Muhammad Aslam\n",
      "Age: 30\n",
      "Education : Master in Data Science\n",
      "\n"
     ]
    }
   ],
   "source": [
    "# we can define index number\n",
    "\n",
    "name : str = 'Muhammad Qasim'\n",
    "fname : str = \"Muhammad Aslam\"\n",
    "education : str = \"Master in Data Science\"\n",
    "age : int = 30\n",
    "\n",
    "\n",
    "card : str = \"\"\"\n",
    "PIAIC Student Card\n",
    "Student Name : {1}\n",
    "Father's Name: {0}\n",
    "Age: {3}\n",
    "Education : {2}\n",
    "\"\"\".format(fname, name, education, age)\n",
    "#           0      1       2        3\n",
    "\n",
    "print(card)"
   ]
  },
  {
   "cell_type": "code",
   "execution_count": 19,
   "metadata": {},
   "outputs": [
    {
     "name": "stdout",
     "output_type": "stream",
     "text": [
      "\n",
      "PIAIC Student Card\n",
      "Student Name : Muhammad Qasim\n",
      "Father's Name: Muhammad Aslam\n",
      "Age: 30\n",
      "Education : Master in Data Science\n",
      "\n"
     ]
    }
   ],
   "source": [
    "# we can also define temp name for placeholders\n",
    "\n",
    "name : str = 'Muhammad Qasim'\n",
    "fname : str = \"Muhammad Aslam\"\n",
    "education : str = \"Master in Data Science\"\n",
    "age : int = 30\n",
    "\n",
    "\n",
    "card : str = \"\"\"\n",
    "PIAIC Student Card\n",
    "Student Name : {a}\n",
    "Father's Name: {b}\n",
    "Age: {c}\n",
    "Education : {d}\n",
    "\"\"\".format(a=name, b=fname, c=age, d=education)\n",
    "\n",
    "\n",
    "print(card)"
   ]
  },
  {
   "cell_type": "markdown",
   "metadata": {},
   "source": [
    "## Recommended below two f-string format"
   ]
  },
  {
   "cell_type": "code",
   "execution_count": 20,
   "metadata": {},
   "outputs": [
    {
     "name": "stdout",
     "output_type": "stream",
     "text": [
      "\n",
      "PIAIC Student Card\n",
      "Student Name : Muhammad Qasim\n",
      "Father's Name: Muhammad Aslam\n",
      "Age: 30\n",
      "Education : Master in Data Science\n",
      "\n"
     ]
    }
   ],
   "source": [
    "name : str = 'Muhammad Qasim'\n",
    "fname : str = \"Muhammad Aslam\"\n",
    "education : str = \"Master in Data Science\"\n",
    "age : int = 30\n",
    "\n",
    "\n",
    "card : str = f\"\"\"\n",
    "PIAIC Student Card\n",
    "Student Name : {name}\n",
    "Father's Name: {fname}\n",
    "Age: {age}\n",
    "Education : {education}\n",
    "\"\"\"\n",
    "\n",
    "print(card)"
   ]
  },
  {
   "cell_type": "code",
   "execution_count": 21,
   "metadata": {},
   "outputs": [
    {
     "name": "stdout",
     "output_type": "stream",
     "text": [
      "My Name is Muhammad Qasim\n",
      "15\n"
     ]
    }
   ],
   "source": [
    "student_code : str = \"\"\"\n",
    "print(\"My Name is Muhammad Qasim\")\n",
    "a:int = 7\n",
    "b:int = 8\n",
    "print(a + b)\n",
    "\"\"\"\n",
    "\n",
    "exec(student_code) # exec() function is used to execute program in string."
   ]
  },
  {
   "cell_type": "markdown",
   "metadata": {},
   "source": [
    "## Explore String methods and attributes\n",
    "\n",
    "### Pre-define global function we have used\n",
    "- print\n",
    "- type\n",
    "- id\n",
    "- dir\n",
    "- len"
   ]
  },
  {
   "cell_type": "code",
   "execution_count": 22,
   "metadata": {},
   "outputs": [
    {
     "name": "stdout",
     "output_type": "stream",
     "text": [
      "['capitalize', 'casefold', 'center', 'count', 'encode', 'endswith', 'expandtabs', 'find', 'format', 'format_map', 'index', 'isalnum', 'isalpha', 'isascii', 'isdecimal', 'isdigit', 'isidentifier', 'islower', 'isnumeric', 'isprintable', 'isspace', 'istitle', 'isupper', 'join', 'ljust', 'lower', 'lstrip', 'maketrans', 'partition', 'removeprefix', 'removesuffix', 'replace', 'rfind', 'rindex', 'rjust', 'rpartition', 'rsplit', 'rstrip', 'split', 'splitlines', 'startswith', 'strip', 'swapcase', 'title', 'translate', 'upper', 'zfill']\n",
      "47\n"
     ]
    }
   ],
   "source": [
    "a: list[str] = [i for i in dir(str) if \"__\" not in i]\n",
    "print(a)\n",
    "print(len(a))"
   ]
  },
  {
   "cell_type": "markdown",
   "metadata": {},
   "source": [
    "## String Methods (47)\n",
    "\n",
    "- `capitalize`\n",
    "- `casefold`\n",
    "- `center`\n",
    "- `count`\n",
    "- `encode`\n",
    "- `endswith`\n",
    "- `expandtabs`,\n",
    "- `find`,\n",
    "- `format`,\n",
    "- `format_map`,\n",
    "- `index`,\n",
    "- `isalnum`,\n",
    "- `isalpha`,\n",
    "- `isascii`,\n",
    "- `isdecimal`,\n",
    "- `isdigit`\n",
    "- `isidentifier`,\n",
    "- `islower`,\n",
    "- `isnumeric`,\n",
    "- `isprintable`,\n",
    "- `isspace`,\n",
    "- `istitle`,\n",
    "- `isupper`,\n",
    "- `join`,\n",
    "- `ljust`,\n",
    "- `lower`\n",
    "- `lstrip`,\n",
    "- `maketrans`,\n",
    "- `partition`,\n",
    "- `removeprefix`,\n",
    "- `removesuffix`,\n",
    "- `replace`,\n",
    "- `rfind`,\n",
    "- `rindex`,\n",
    "- `rjust`,\n",
    "- `rpartition`\n",
    "- `rsplit`,\n",
    "- `rstrip`,\n",
    "- `split`,\n",
    "- `splitlines`,\n",
    "- `startswith`,\n",
    "- `strip`,\n",
    "- `swapcase`,\n",
    "- `title`,\n",
    "- `translate`,\n",
    "- `upper`,\n",
    "- `zfill`\n",
    "\n"
   ]
  },
  {
   "cell_type": "code",
   "execution_count": 27,
   "metadata": {},
   "outputs": [
    {
     "name": "stdout",
     "output_type": "stream",
     "text": [
      "Muhammad bilal\n",
      "muhammad bilal\n",
      "Muhammad Bilal\n",
      "MUHAMMAD BILAL\n",
      "muhammad bilal\n"
     ]
    }
   ],
   "source": [
    "name : str = \"muHamMaD BilAL\"\n",
    "print(name.capitalize()) # Capital The First Word\n",
    "\n",
    "print(name.casefold())  # compare the cases and make all string character according to this.\n",
    "\n",
    "print(name.title()) # title case -> capital every character after space\n",
    "\n",
    "print(name.upper()) # all characters are capitalized\n",
    "\n",
    "print(name.lower()) # all chars in lower case.\n"
   ]
  },
  {
   "cell_type": "code",
   "execution_count": 31,
   "metadata": {},
   "outputs": [
    {
     "data": {
      "text/plain": [
       "'  Muhammad    Bilal          '"
      ]
     },
     "metadata": {},
     "output_type": "display_data"
    },
    {
     "data": {
      "text/plain": [
       "'Muhammad    Bilal          '"
      ]
     },
     "metadata": {},
     "output_type": "display_data"
    },
    {
     "data": {
      "text/plain": [
       "'  Muhammad    Bilal'"
      ]
     },
     "metadata": {},
     "output_type": "display_data"
    },
    {
     "data": {
      "text/plain": [
       "'Muhammad    Bilal'"
      ]
     },
     "metadata": {},
     "output_type": "display_data"
    }
   ],
   "source": [
    "# remove White space in string\n",
    "\n",
    "name : str = \"\"\"  Muhammad    Bilal          \"\"\"\n",
    "\n",
    "display(name)\n",
    "display(name.lstrip()) # remove white space from left\n",
    "display(name.rstrip()) # remove white space from right\n",
    "display(name.strip()) # remove white space from both side.\n"
   ]
  },
  {
   "cell_type": "code",
   "execution_count": 39,
   "metadata": {},
   "outputs": [
    {
     "name": "stdout",
     "output_type": "stream",
     "text": [
      "https://www.google.com\n",
      "www.google.com\n",
      "https://www.google\n",
      "google\n"
     ]
    }
   ],
   "source": [
    "# remove prefix and suffix\n",
    "\n",
    "url:str  = \"https://www.google.com\"\n",
    "\n",
    "print(url)\n",
    "print(url.removeprefix(\"https://\")) # remove from start\n",
    "print(url.removesuffix(\".com\")) # remove from end\n",
    "print(url.removeprefix(\"https://www.\").removesuffix(\".com\")) # remove from both side\n"
   ]
  },
  {
   "cell_type": "code",
   "execution_count": 41,
   "metadata": {},
   "outputs": [
    {
     "name": "stdout",
     "output_type": "stream",
     "text": [
      "\n",
      "\n",
      "- `capitalize`\n",
      "- `casefold`\n",
      "- `center`\n",
      "- `count`\n",
      "- `encode`\n",
      "- `endswith`\n",
      "- `expandtabs`,\n",
      "- `find`,\n",
      "- `format`,\n",
      "- `format_map`,\n",
      "- `index`,\n",
      "- `isalnum`,\n",
      "- `isalpha`,\n",
      "- `isascii`,\n",
      "- `isdecimal`,\n",
      "- `isdigit`\n",
      "- `isidentifier`,\n",
      "- `islower`,\n",
      "- `isnumeric`,\n",
      "- `isprintable`,\n",
      "- `isspace`,\n",
      "- `istitle`,\n",
      "- `isupper`,\n",
      "- `join`,\n",
      "- `ljust`,\n",
      "- `lower`\n",
      "- `lstrip`,\n",
      "- `maketrans`,\n",
      "- `partition`,\n",
      "- `removeprefix`,\n",
      "- `removesuffix`,\n",
      "- `replace`,\n",
      "- `rfind`,\n",
      "- `rindex`,\n",
      "- `rjust`,\n",
      "- `rpartition`\n",
      "- `rsplit`,\n",
      "- `rstrip`,\n",
      "- `split`,\n",
      "- `splitlines`,\n",
      "- `startswith`,\n",
      "- `strip`,\n",
      "- `swapcase`,\n",
      "- `title`,\n",
      "- `translate`,\n",
      "- `upper`,\n",
      "- `zfill`\n",
      "\n"
     ]
    }
   ],
   "source": [
    "list = \"\"\"\n",
    "\n",
    "- 'capitalize'\n",
    "- 'casefold'\n",
    "- 'center'\n",
    "- 'count'\n",
    "- 'encode'\n",
    "- 'endswith'\n",
    "- 'expandtabs',\n",
    "- 'find',\n",
    "- 'format',\n",
    "- 'format_map',\n",
    "- 'index',\n",
    "- 'isalnum',\n",
    "- 'isalpha',\n",
    "- 'isascii',\n",
    "- 'isdecimal',\n",
    "- 'isdigit'\n",
    "- 'isidentifier',\n",
    "- 'islower',\n",
    "- 'isnumeric',\n",
    "- 'isprintable',\n",
    "- 'isspace',\n",
    "- 'istitle',\n",
    "- 'isupper',\n",
    "- 'join',\n",
    "- 'ljust',\n",
    "- 'lower'\n",
    "- 'lstrip',\n",
    "- 'maketrans',\n",
    "- 'partition',\n",
    "- 'removeprefix',\n",
    "- 'removesuffix',\n",
    "- 'replace',\n",
    "- 'rfind',\n",
    "- 'rindex',\n",
    "- 'rjust',\n",
    "- 'rpartition'\n",
    "- 'rsplit',\n",
    "- 'rstrip',\n",
    "- 'split',\n",
    "- 'splitlines',\n",
    "- 'startswith',\n",
    "- 'strip',\n",
    "- 'swapcase',\n",
    "- 'title',\n",
    "- 'translate',\n",
    "- 'upper',\n",
    "- 'zfill'\n",
    "\"\"\".replace('\\'','`')\n",
    "print(list)"
   ]
  },
  {
   "cell_type": "code",
   "execution_count": null,
   "metadata": {},
   "outputs": [],
   "source": []
  }
 ],
 "metadata": {
  "kernelspec": {
   "display_name": "myenv3_12",
   "language": "python",
   "name": "python3"
  },
  "language_info": {
   "codemirror_mode": {
    "name": "ipython",
    "version": 3
   },
   "file_extension": ".py",
   "mimetype": "text/x-python",
   "name": "python",
   "nbconvert_exporter": "python",
   "pygments_lexer": "ipython3",
   "version": "3.12.2"
  }
 },
 "nbformat": 4,
 "nbformat_minor": 2
}
