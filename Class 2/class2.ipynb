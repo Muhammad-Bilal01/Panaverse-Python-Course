{
 "cells": [
  {
   "cell_type": "markdown",
   "metadata": {},
   "source": [
    "# Class 2 : String in Python\n",
    "In this class, we will be deep dive into the concepts of String and explore its Functions.\n"
   ]
  },
  {
   "cell_type": "code",
   "execution_count": 2,
   "metadata": {},
   "outputs": [
    {
     "name": "stdout",
     "output_type": "stream",
     "text": [
      "This is Class 2 in Python\n"
     ]
    }
   ],
   "source": [
    "message : str = \"This is Class 2 in Python\"\n",
    "print(message)"
   ]
  },
  {
   "cell_type": "markdown",
   "metadata": {},
   "source": [
    "# String\n",
    "\n",
    "The Sequence or collection or set of character enclosed with quotation or double quotation or triple single or double quotation mark\n",
    "\n",
    "```python\n",
    "\n",
    "'this is String'\n",
    "\"this is also an string\"\n",
    "\"\"\"this is \n",
    "multi line \n",
    "String\"\"\"\n",
    "\n",
    "```\n"
   ]
  },
  {
   "cell_type": "code",
   "execution_count": 4,
   "metadata": {},
   "outputs": [
    {
     "name": "stdout",
     "output_type": "stream",
     "text": [
      "Muhammad Bilal\n",
      "<class 'str'>\n"
     ]
    }
   ],
   "source": [
    "# To find type of any data we have type function\n",
    "\n",
    "name : str = \"Muhammad Bilal\"\n",
    "print(name) # Muhammad Bilal\n",
    "print(type(name)) # <class 'str'>"
   ]
  },
  {
   "cell_type": "markdown",
   "metadata": {},
   "source": [
    "## Single Quotation V/S Double Quotation in String\n",
    "Where to use single or double quotation \n",
    "\n",
    "1. If we want to use sigle quote in our string, we wrap string in double quotes.\n",
    "2. If we want to use double quotes in our String, we wrap string with single quotes.\n",
    "\n",
    "\n"
   ]
  },
  {
   "cell_type": "code",
   "execution_count": 8,
   "metadata": {},
   "outputs": [
    {
     "name": "stdout",
     "output_type": "stream",
     "text": [
      "PIAIC Student Card \n",
      "Father's name\n",
      "some one says to me \n",
      "\"Practice Practice and Practice makes man Perfect\"\n"
     ]
    }
   ],
   "source": [
    "# Where to use single or double quotation \n",
    "\n",
    "# Single Quotation Example\n",
    "message : str = \"PIAIC Student Card \\nFather's name\"\n",
    "print(message)\n",
    "\n",
    "# Double Quotation Example\n",
    "message2 : str = 'some one says to me \\n\"Practice Practice and Practice makes man Perfect\"' \n",
    "print(message2)\n"
   ]
  },
  {
   "cell_type": "code",
   "execution_count": 10,
   "metadata": {},
   "outputs": [
    {
     "name": "stdout",
     "output_type": "stream",
     "text": [
      "PIAIC Student Card \n",
      "Father's name\n"
     ]
    }
   ],
   "source": [
    "# convert any special character into simple character, place \\ before character\n",
    "\n",
    "message : str = \"PIAIC Student Card \\nFather's name\"\n",
    "print(message)"
   ]
  },
  {
   "cell_type": "markdown",
   "metadata": {},
   "source": [
    "## String Concatenation \n",
    "\n",
    "String Concatenation is a method that is used to merge two or more than two string with the single string.\n"
   ]
  },
  {
   "cell_type": "code",
   "execution_count": 11,
   "metadata": {},
   "outputs": [
    {
     "data": {
      "text/plain": [
       "'abc'"
      ]
     },
     "execution_count": 11,
     "metadata": {},
     "output_type": "execute_result"
    }
   ],
   "source": [
    "\"a\" + \"b\"+ \"c\"\n"
   ]
  },
  {
   "cell_type": "code",
   "execution_count": 13,
   "metadata": {},
   "outputs": [
    {
     "ename": "TypeError",
     "evalue": "can only concatenate str (not \"int\") to str",
     "output_type": "error",
     "traceback": [
      "\u001b[1;31m---------------------------------------------------------------------------\u001b[0m",
      "\u001b[1;31mTypeError\u001b[0m                                 Traceback (most recent call last)",
      "Cell \u001b[1;32mIn[13], line 3\u001b[0m\n\u001b[0;32m      1\u001b[0m \u001b[38;5;66;03m# if we try to concatenate string with number,\u001b[39;00m\n\u001b[1;32m----> 3\u001b[0m \u001b[38;5;124;43m\"\u001b[39;49m\u001b[38;5;124;43ma\u001b[39;49m\u001b[38;5;124;43m\"\u001b[39;49m\u001b[38;5;241;43m+\u001b[39;49m\u001b[38;5;241;43m1\u001b[39;49m\n",
      "\u001b[1;31mTypeError\u001b[0m: can only concatenate str (not \"int\") to str"
     ]
    }
   ],
   "source": [
    "# if we try to concatenate string with number,\n",
    "\n",
    "\"a\"+1 # TypeError: can only concatenate str (not \"int\") to str\n",
    "\n"
   ]
  },
  {
   "cell_type": "markdown",
   "metadata": {},
   "source": [
    "## Concatenate a Large String"
   ]
  },
  {
   "cell_type": "code",
   "execution_count": 15,
   "metadata": {},
   "outputs": [
    {
     "ename": "TypeError",
     "evalue": "can only concatenate str (not \"int\") to str",
     "output_type": "error",
     "traceback": [
      "\u001b[1;31m---------------------------------------------------------------------------\u001b[0m",
      "\u001b[1;31mTypeError\u001b[0m                                 Traceback (most recent call last)",
      "Cell \u001b[1;32mIn[15], line 5\u001b[0m\n\u001b[0;32m      3\u001b[0m age: \u001b[38;5;28mint\u001b[39m \u001b[38;5;241m=\u001b[39m \u001b[38;5;241m21\u001b[39m\n\u001b[0;32m      4\u001b[0m education : \u001b[38;5;28mstr\u001b[39m \u001b[38;5;241m=\u001b[39m \u001b[38;5;124m\"\u001b[39m\u001b[38;5;124mGraduate\u001b[39m\u001b[38;5;124m\"\u001b[39m\n\u001b[1;32m----> 5\u001b[0m message : \u001b[38;5;28mstr\u001b[39m \u001b[38;5;241m=\u001b[39m \u001b[38;5;124;43m\"\u001b[39;49m\u001b[38;5;124;43mPIAIC Studenet Card \u001b[39;49m\u001b[38;5;130;43;01m\\n\u001b[39;49;00m\u001b[38;5;124;43mName: \u001b[39;49m\u001b[38;5;124;43m\"\u001b[39;49m\u001b[38;5;241;43m+\u001b[39;49m\u001b[43m \u001b[49m\u001b[43mname\u001b[49m\u001b[43m \u001b[49m\u001b[38;5;241;43m+\u001b[39;49m\u001b[43m \u001b[49m\u001b[38;5;124;43m\"\u001b[39;49m\u001b[38;5;130;43;01m\\n\u001b[39;49;00m\u001b[38;5;124;43mFater\u001b[39;49m\u001b[38;5;124;43m'\u001b[39;49m\u001b[38;5;124;43ms Name: \u001b[39;49m\u001b[38;5;124;43m\"\u001b[39;49m\u001b[38;5;241;43m+\u001b[39;49m\u001b[43m \u001b[49m\u001b[43mf_name\u001b[49m\u001b[43m \u001b[49m\u001b[38;5;241;43m+\u001b[39;49m\u001b[38;5;124;43m\"\u001b[39;49m\u001b[38;5;130;43;01m\\n\u001b[39;49;00m\u001b[38;5;124;43mage: \u001b[39;49m\u001b[38;5;124;43m\"\u001b[39;49m\u001b[38;5;241;43m+\u001b[39;49m\u001b[43m \u001b[49m\u001b[43mage\u001b[49m \u001b[38;5;241m+\u001b[39m \u001b[38;5;124m\"\u001b[39m\u001b[38;5;130;01m\\n\u001b[39;00m\u001b[38;5;124meducation: \u001b[39m\u001b[38;5;124m\"\u001b[39m \u001b[38;5;241m+\u001b[39m education \n",
      "\u001b[1;31mTypeError\u001b[0m: can only concatenate str (not \"int\") to str"
     ]
    }
   ],
   "source": [
    "name : str = \"Muhammad Bilal\"\n",
    "f_name : str = \"Muhammad Naeem\"\n",
    "age: int = 21\n",
    "education : str = \"Graduate\"\n",
    "message : str = \"PIAIC Studenet Card \\nName: \"+ name + \"\\nFater's Name: \"+ f_name +\"\\nage: \"+ age + \"\\neducation: \" + education "
   ]
  },
  {
   "cell_type": "code",
   "execution_count": 17,
   "metadata": {},
   "outputs": [
    {
     "data": {
      "text/plain": [
       "'a4'"
      ]
     },
     "execution_count": 17,
     "metadata": {},
     "output_type": "execute_result"
    }
   ],
   "source": [
    "# convert any data type to string we have a method of str()\n",
    "\"a\"+ str(4)\n"
   ]
  },
  {
   "cell_type": "code",
   "execution_count": 19,
   "metadata": {},
   "outputs": [
    {
     "name": "stdout",
     "output_type": "stream",
     "text": [
      "PIAIC Studenet Card \n",
      "Name: Muhammad Bilal\n",
      "Fater's Name: Muhammad Naeem\n",
      "age: 21\n",
      "education: Graduate\n"
     ]
    }
   ],
   "source": [
    "name : str = \"Muhammad Bilal\"\n",
    "f_name : str = \"Muhammad Naeem\"\n",
    "age: int = 21\n",
    "education : str = \"Graduate\"\n",
    "message : str = \"PIAIC Studenet Card \\nName: \"+ name + \"\\nFater's Name: \"+ f_name +\"\\nage: \"+ str(age) + \"\\neducation: \" + education \n",
    "print(message)"
   ]
  },
  {
   "cell_type": "code",
   "execution_count": 20,
   "metadata": {},
   "outputs": [
    {
     "name": "stdout",
     "output_type": "stream",
     "text": [
      "10\n"
     ]
    }
   ],
   "source": [
    "# we can also execute some equation in Print\n",
    "print(2 + 3 + 5 )"
   ]
  },
  {
   "cell_type": "markdown",
   "metadata": {},
   "source": [
    "## "
   ]
  },
  {
   "cell_type": "markdown",
   "metadata": {},
   "source": [
    "## \"/\" Line Continue\n"
   ]
  },
  {
   "cell_type": "code",
   "execution_count": 21,
   "metadata": {},
   "outputs": [
    {
     "name": "stdout",
     "output_type": "stream",
     "text": [
      "10\n"
     ]
    }
   ],
   "source": [
    "print(2+\\\n",
    "      3+\\\n",
    "        5)"
   ]
  },
  {
   "cell_type": "code",
   "execution_count": 22,
   "metadata": {},
   "outputs": [
    {
     "name": "stdout",
     "output_type": "stream",
     "text": [
      "PIAIC Studenet Card \n",
      "Name: Muhammad Bilal\n",
      "Fater's Name: Muhammad Naeem\n",
      "age: 21\n",
      "education: Graduate\n"
     ]
    }
   ],
   "source": [
    "name : str = \"Muhammad Bilal\"\n",
    "f_name : str = \"Muhammad Naeem\"\n",
    "age: int = 21\n",
    "education : str = \"Graduate\"\n",
    "message : str = \"PIAIC Studenet Card \\nName: \" + name +\\\n",
    "      \"\\nFater's Name: \"+ f_name +\\\n",
    "        \"\\nage: \"+ str(age) +\\\n",
    "        \"\\neducation: \" + education \n",
    "print(message)"
   ]
  },
  {
   "cell_type": "markdown",
   "metadata": {},
   "source": [
    "## Defining Multiline String \"\"\" \"\"\" , ''' '''\n",
    "\n",
    "Multiline String is used to print multiple line in String \n",
    "or we can say that it used for print formatting.\n"
   ]
  },
  {
   "cell_type": "code",
   "execution_count": 24,
   "metadata": {},
   "outputs": [
    {
     "name": "stdout",
     "output_type": "stream",
     "text": [
      "PIAIC Studenet Card \n",
      "Name: ... \n",
      "Fater's Name: ...\n",
      "age: ...\n",
      "education: ...\n"
     ]
    }
   ],
   "source": [
    "name : str = \"Muhammad Bilal\"\n",
    "f_name : str = \"Muhammad Naeem\"\n",
    "age: int = 21\n",
    "education : str = \"Graduate\"\n",
    "\n",
    "message : str = \"\"\"PIAIC Studenet Card \n",
    "Name: ... \n",
    "Fater's Name: ...\n",
    "age: ...\n",
    "education: ...\"\"\" \n",
    "print(message)"
   ]
  },
  {
   "cell_type": "markdown",
   "metadata": {},
   "source": [
    "## F-String Python "
   ]
  }
 ],
 "metadata": {
  "kernelspec": {
   "display_name": "myenv3_12",
   "language": "python",
   "name": "python3"
  },
  "language_info": {
   "codemirror_mode": {
    "name": "ipython",
    "version": 3
   },
   "file_extension": ".py",
   "mimetype": "text/x-python",
   "name": "python",
   "nbconvert_exporter": "python",
   "pygments_lexer": "ipython3",
   "version": "3.12.2"
  }
 },
 "nbformat": 4,
 "nbformat_minor": 2
}
